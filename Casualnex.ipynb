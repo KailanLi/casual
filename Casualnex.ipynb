{
 "cells": [
  {
   "cell_type": "code",
   "execution_count": 4,
   "metadata": {},
   "outputs": [],
   "source": [
    "import pandas as pd\n",
    "import numpy as np\n",
    "from sklearn.metrics import confusion_matrix\n",
    "from sklearn.preprocessing import LabelEncoder\n",
    "import warnings\n",
    "from IPython.display import Image\n",
    "from causalnex.plots import plot_structure\n",
    "from causalnex.structure import StructureModel\n",
    "from causalnex.structure.notears import from_pandas\n",
    "warnings.filterwarnings(\"ignore\")  # silence warnings\n",
    "from causalnex.plots import plot_structure, NODE_STYLE, EDGE_STYLE\n",
    "df=pd.read_csv(r'C:\\Users\\adaml\\Python\\Fairness Systems\\causal.csv')"
   ]
  },
  {
   "cell_type": "code",
   "execution_count": 5,
   "id": "061e96b8",
   "metadata": {},
   "outputs": [
    {
     "data": {
      "text/plain": [
       "(48842, 14)"
      ]
     },
     "execution_count": 5,
     "metadata": {},
     "output_type": "execute_result"
    }
   ],
   "source": [
    "df.shape"
   ]
  },
  {
   "cell_type": "code",
   "execution_count": 18,
   "id": "df68f483",
   "metadata": {},
   "outputs": [
    {
     "name": "stdout",
     "output_type": "stream",
     "text": [
      "[]\n"
     ]
    }
   ],
   "source": [
    "def preprocess_data(df):\n",
    "    # Replace \"?\" with \"unknown\"\n",
    "    df.replace(\"?\", \"unknown\", inplace=True)\n",
    "\n",
    "    # Remove blank spaces\n",
    "    df = df.applymap(lambda x: x.strip() if isinstance(x, str) else x)\n",
    "\n",
    "    # Change 'race' to binary values first\n",
    "    non_numeric_columns = list(df.select_dtypes(exclude=[np.number]).columns)\n",
    "    le = LabelEncoder()\n",
    "\n",
    "    for col in non_numeric_columns:\n",
    "        df[col] = le.fit_transform(df[col])\n",
    "    print(non_numeric_columns)\n",
    "\n",
    "\n",
    "    return df\n",
    "df = preprocess_data(df)\n"
   ]
  },
  {
   "cell_type": "code",
   "execution_count": 19,
   "id": "285f6c7d",
   "metadata": {},
   "outputs": [
    {
     "name": "stdout",
     "output_type": "stream",
     "text": [
      "01_fully_connected.html\n"
     ]
    },
    {
     "data": {
      "text/html": [
       "\n",
       "        <iframe\n",
       "            width=\"100%\"\n",
       "            height=\"600px\"\n",
       "            src=\"01_fully_connected.html\"\n",
       "            frameborder=\"0\"\n",
       "            allowfullscreen\n",
       "            \n",
       "        ></iframe>\n",
       "        "
      ],
      "text/plain": [
       "<IPython.lib.display.IFrame at 0x252e2f0bca0>"
      ]
     },
     "execution_count": 19,
     "metadata": {},
     "output_type": "execute_result"
    }
   ],
   "source": [
    "import warnings\n",
    "from causalnex.structure import StructureModel\n",
    "from causalnex.structure.notears import from_pandas\n",
    "warnings.filterwarnings(\"ignore\")  # silence warnings\n",
    "from causalnex.plots import plot_structure, NODE_STYLE, EDGE_STYLE\n",
    "sm = StructureModel()\n",
    "\n",
    "sm = from_pandas(df)\n",
    "\n",
    "viz = plot_structure(\n",
    "    sm,\n",
    "    all_node_attributes=NODE_STYLE.WEAK,\n",
    "    all_edge_attributes=EDGE_STYLE.WEAK,\n",
    ")\n",
    "# %% \n",
    "viz.toggle_physics(False)\n",
    "viz.show(\"01_fully_connected.html\")"
   ]
  },
  {
   "cell_type": "code",
   "execution_count": 22,
   "id": "0eb1dbfd",
   "metadata": {},
   "outputs": [
    {
     "name": "stdout",
     "output_type": "stream",
     "text": [
      "01_thresholded.html\n"
     ]
    },
    {
     "data": {
      "text/html": [
       "\n",
       "        <iframe\n",
       "            width=\"100%\"\n",
       "            height=\"600px\"\n",
       "            src=\"01_thresholded.html\"\n",
       "            frameborder=\"0\"\n",
       "            allowfullscreen\n",
       "            \n",
       "        ></iframe>\n",
       "        "
      ],
      "text/plain": [
       "<IPython.lib.display.IFrame at 0x252e39d6b60>"
      ]
     },
     "execution_count": 22,
     "metadata": {},
     "output_type": "execute_result"
    }
   ],
   "source": [
    "sm.remove_edges_below_threshold(1.0)\n",
    "viz = plot_structure(\n",
    "    sm,\n",
    "    all_node_attributes=NODE_STYLE.WEAK,\n",
    "    all_edge_attributes=EDGE_STYLE.WEAK,\n",
    ")\n",
    "viz.show(\"01_thresholded.html\")"
   ]
  },
  {
   "cell_type": "code",
   "execution_count": 23,
   "id": "3cd98799",
   "metadata": {},
   "outputs": [
    {
     "name": "stdout",
     "output_type": "stream",
     "text": [
      "02_new_node.html\n"
     ]
    },
    {
     "data": {
      "text/html": [
       "\n",
       "        <iframe\n",
       "            width=\"100%\"\n",
       "            height=\"600px\"\n",
       "            src=\"02_new_node.html\"\n",
       "            frameborder=\"0\"\n",
       "            allowfullscreen\n",
       "            \n",
       "        ></iframe>\n",
       "        "
      ],
      "text/plain": [
       "<IPython.lib.display.IFrame at 0x252e39ce860>"
      ]
     },
     "execution_count": 23,
     "metadata": {},
     "output_type": "execute_result"
    }
   ],
   "source": [
    "\n",
    "all_node_attributes = {\n",
    "    \"font\": {\n",
    "        \"color\": \"#FFFFFFD9\",\n",
    "        \"face\": \"Helvetica\",\n",
    "        \"size\": 20,\n",
    "    },\n",
    "    \"shape\": \"box\",\n",
    "    \"size\": 15,\n",
    "    \"borderWidth\": 2,\n",
    "    \"color\": {\n",
    "        \"border\": \"#4a90e2d9\",\n",
    "        \"background\": \"#001521\"\n",
    "    },\n",
    "    \"mass\": 3\n",
    "}\n",
    "\n",
    "node_attributes = {\n",
    "    \"income\": {\n",
    "        \"color\": {\n",
    "            \"background\": \"#ff0000\",\n",
    "            \"highlight\": {\n",
    "                \"background\": \"#ffcccc\",\n",
    "                \"border\": \"#cce0ff\"\n",
    "            }\n",
    "        },\n",
    "        \"shape\": \"circle\",\n",
    "        \"size\": 50,\n",
    "\n",
    "        \"font\": {\n",
    "            \"color\": \"#000000\",\n",
    "        },\n",
    "        \"fixed\": {\n",
    "            \"y\": True\n",
    "        }\n",
    "    },\n",
    "    \"sex\": {\n",
    "        \"color\": {\n",
    "            \"background\": \"#FFD700\",\n",
    "            \"highlight\": {\n",
    "                \"background\": \"#ffcccc\",\n",
    "                \"border\": \"#cce0ff\"\n",
    "            }\n",
    "        },\n",
    "        \"shape\": \"hexagon\",\n",
    "        \"size\": 20,\n",
    "        \"fixed\": {\n",
    "            \"x\": True\n",
    "        }\n",
    "    },\n",
    "     \"age\": {\n",
    "        \"color\": {\n",
    "            \"background\": \"#FFD700\",\n",
    "            \"highlight\": {\n",
    "                \"background\": \"#ffcccc\",\n",
    "                \"border\": \"#cce0ff\"\n",
    "            }\n",
    "        },\n",
    "        \"shape\": \"hexagon\",\n",
    "        \"size\": 20,\n",
    "        \"fixed\": {\n",
    "            \"x\": True\n",
    "        }\n",
    "    }\n",
    "}\n",
    "\n",
    "viz2 = plot_structure(\n",
    "    sm, all_node_attributes=all_node_attributes, node_attributes=node_attributes\n",
    ")\n",
    "viz2.show('02_new_node.html')"
   ]
  },
  {
   "cell_type": "code",
   "execution_count": 24,
   "id": "53110630",
   "metadata": {},
   "outputs": [
    {
     "name": "stdout",
     "output_type": "stream",
     "text": [
      "03_new_hierarchical.html\n"
     ]
    },
    {
     "data": {
      "text/html": [
       "\n",
       "        <iframe\n",
       "            width=\"100%\"\n",
       "            height=\"600px\"\n",
       "            src=\"03_new_hierarchical.html\"\n",
       "            frameborder=\"0\"\n",
       "            allowfullscreen\n",
       "            \n",
       "        ></iframe>\n",
       "        "
      ],
      "text/plain": [
       "<IPython.lib.display.IFrame at 0x252e5245b40>"
      ]
     },
     "execution_count": 24,
     "metadata": {},
     "output_type": "execute_result"
    }
   ],
   "source": [
    "import json\n",
    "from causalnex.plots import EDGE_STYLE, NODE_STYLE\n",
    "\n",
    "opt = {\n",
    "    \"layout\": {\n",
    "        \"hierarchical\": {\n",
    "        \"enabled\": True,\n",
    "        \"direction\": \"LR\", #LR means that the hierarchy is displayed left to right\n",
    "        \"sortMethod\": \"directed\"\n",
    "        }\n",
    "    }\n",
    "}\n",
    "\n",
    "viz5 = plot_structure(\n",
    "    sm,\n",
    "    all_node_attributes=NODE_STYLE.WEAK,\n",
    "    all_edge_attributes=EDGE_STYLE.WEAK,\n",
    ")\n",
    "viz5.set_options(options=json.dumps(opt))\n",
    "viz5.show('03_new_hierarchical.html')"
   ]
  },
  {
   "cell_type": "markdown",
   "id": "b296a82a",
   "metadata": {},
   "source": [
    "Bayesian Network"
   ]
  },
  {
   "cell_type": "code",
   "execution_count": 25,
   "id": "ba29f1dd",
   "metadata": {},
   "outputs": [],
   "source": [
    "import networkx as nx\n",
    "\n",
    "nx.drawing.nx_pydot.write_dot(sm, 'graph.dot')"
   ]
  },
  {
   "cell_type": "code",
   "execution_count": 26,
   "id": "33b161e1",
   "metadata": {},
   "outputs": [],
   "source": [
    "from causalnex.network import BayesianNetwork\n",
    "\n",
    "bn = BayesianNetwork(sm)"
   ]
  },
  {
   "cell_type": "code",
   "execution_count": 27,
   "id": "a2664e4d",
   "metadata": {},
   "outputs": [
    {
     "data": {
      "text/html": [
       "<div>\n",
       "<style scoped>\n",
       "    .dataframe tbody tr th:only-of-type {\n",
       "        vertical-align: middle;\n",
       "    }\n",
       "\n",
       "    .dataframe tbody tr th {\n",
       "        vertical-align: top;\n",
       "    }\n",
       "\n",
       "    .dataframe thead th {\n",
       "        text-align: right;\n",
       "    }\n",
       "</style>\n",
       "<table border=\"1\" class=\"dataframe\">\n",
       "  <thead>\n",
       "    <tr style=\"text-align: right;\">\n",
       "      <th></th>\n",
       "      <th>age</th>\n",
       "      <th>workclass</th>\n",
       "      <th>education</th>\n",
       "      <th>edunum</th>\n",
       "      <th>maritalstatus</th>\n",
       "      <th>occupation</th>\n",
       "      <th>relationship</th>\n",
       "      <th>race</th>\n",
       "      <th>sex</th>\n",
       "      <th>capitalgain</th>\n",
       "      <th>capitalloss</th>\n",
       "      <th>hoursperweek</th>\n",
       "      <th>country</th>\n",
       "      <th>income</th>\n",
       "      <th>predicted income</th>\n",
       "    </tr>\n",
       "  </thead>\n",
       "  <tbody>\n",
       "    <tr>\n",
       "      <th>0</th>\n",
       "      <td>Middle-aged</td>\n",
       "      <td>State-gov</td>\n",
       "      <td>Bachelors</td>\n",
       "      <td>High-education</td>\n",
       "      <td>Never-married</td>\n",
       "      <td>Adm-clerical</td>\n",
       "      <td>Not-in-family</td>\n",
       "      <td>White</td>\n",
       "      <td>Male</td>\n",
       "      <td>High-gain</td>\n",
       "      <td>No-loss</td>\n",
       "      <td>Full-time</td>\n",
       "      <td>United-States</td>\n",
       "      <td>&lt;=50K</td>\n",
       "      <td>&gt;50K</td>\n",
       "    </tr>\n",
       "    <tr>\n",
       "      <th>1</th>\n",
       "      <td>Middle-aged</td>\n",
       "      <td>Self-emp-not-inc</td>\n",
       "      <td>Bachelors</td>\n",
       "      <td>High-education</td>\n",
       "      <td>Married-civ-spouse</td>\n",
       "      <td>Exec-managerial</td>\n",
       "      <td>Husband</td>\n",
       "      <td>White</td>\n",
       "      <td>Male</td>\n",
       "      <td>No-gain</td>\n",
       "      <td>No-loss</td>\n",
       "      <td>Part-time</td>\n",
       "      <td>United-States</td>\n",
       "      <td>&lt;=50K</td>\n",
       "      <td>&gt;50K</td>\n",
       "    </tr>\n",
       "    <tr>\n",
       "      <th>2</th>\n",
       "      <td>Middle-aged</td>\n",
       "      <td>Private</td>\n",
       "      <td>HS-grad</td>\n",
       "      <td>Low-education</td>\n",
       "      <td>Divorced</td>\n",
       "      <td>Handlers-cleaners</td>\n",
       "      <td>Not-in-family</td>\n",
       "      <td>White</td>\n",
       "      <td>Male</td>\n",
       "      <td>No-gain</td>\n",
       "      <td>No-loss</td>\n",
       "      <td>Full-time</td>\n",
       "      <td>United-States</td>\n",
       "      <td>&lt;=50K</td>\n",
       "      <td>&lt;=50K</td>\n",
       "    </tr>\n",
       "    <tr>\n",
       "      <th>3</th>\n",
       "      <td>Middle-aged</td>\n",
       "      <td>Private</td>\n",
       "      <td>11th</td>\n",
       "      <td>Low-education</td>\n",
       "      <td>Married-civ-spouse</td>\n",
       "      <td>Handlers-cleaners</td>\n",
       "      <td>Husband</td>\n",
       "      <td>Black</td>\n",
       "      <td>Male</td>\n",
       "      <td>No-gain</td>\n",
       "      <td>No-loss</td>\n",
       "      <td>Full-time</td>\n",
       "      <td>United-States</td>\n",
       "      <td>&lt;=50K</td>\n",
       "      <td>&lt;=50K</td>\n",
       "    </tr>\n",
       "    <tr>\n",
       "      <th>4</th>\n",
       "      <td>Young</td>\n",
       "      <td>Private</td>\n",
       "      <td>Bachelors</td>\n",
       "      <td>High-education</td>\n",
       "      <td>Married-civ-spouse</td>\n",
       "      <td>Prof-specialty</td>\n",
       "      <td>Wife</td>\n",
       "      <td>Black</td>\n",
       "      <td>Female</td>\n",
       "      <td>No-gain</td>\n",
       "      <td>No-loss</td>\n",
       "      <td>Full-time</td>\n",
       "      <td>Cuba</td>\n",
       "      <td>&lt;=50K</td>\n",
       "      <td>&gt;50K</td>\n",
       "    </tr>\n",
       "  </tbody>\n",
       "</table>\n",
       "</div>"
      ],
      "text/plain": [
       "           age          workclass   education          edunum  \\\n",
       "0  Middle-aged          State-gov   Bachelors  High-education   \n",
       "1  Middle-aged   Self-emp-not-inc   Bachelors  High-education   \n",
       "2  Middle-aged            Private     HS-grad   Low-education   \n",
       "3  Middle-aged            Private        11th   Low-education   \n",
       "4        Young            Private   Bachelors  High-education   \n",
       "\n",
       "         maritalstatus          occupation    relationship    race      sex  \\\n",
       "0        Never-married        Adm-clerical   Not-in-family   White     Male   \n",
       "1   Married-civ-spouse     Exec-managerial         Husband   White     Male   \n",
       "2             Divorced   Handlers-cleaners   Not-in-family   White     Male   \n",
       "3   Married-civ-spouse   Handlers-cleaners         Husband   Black     Male   \n",
       "4   Married-civ-spouse      Prof-specialty            Wife   Black   Female   \n",
       "\n",
       "  capitalgain capitalloss hoursperweek         country  income  \\\n",
       "0   High-gain     No-loss    Full-time   United-States   <=50K   \n",
       "1     No-gain     No-loss    Part-time   United-States   <=50K   \n",
       "2     No-gain     No-loss    Full-time   United-States   <=50K   \n",
       "3     No-gain     No-loss    Full-time   United-States   <=50K   \n",
       "4     No-gain     No-loss    Full-time            Cuba   <=50K   \n",
       "\n",
       "  predicted income  \n",
       "0             >50K  \n",
       "1             >50K  \n",
       "2            <=50K  \n",
       "3            <=50K  \n",
       "4             >50K  "
      ]
     },
     "execution_count": 27,
     "metadata": {},
     "output_type": "execute_result"
    }
   ],
   "source": [
    "data = pd.read_csv(r'C:\\Users\\adaml\\Python\\Fairness Systems\\causal.csv')\n",
    "\n",
    "# Discretizing age\n",
    "age_map = {\n",
    "    range(0, 30): \"Young\",\n",
    "    range(30, 61): \"Middle-aged\",\n",
    "    range(61, 150): \"Senior\"\n",
    "}\n",
    "data[\"age\"] = data[\"age\"].apply(lambda x: next((v for k, v in age_map.items() if x in k), x))\n",
    "\n",
    "# Discretizing edunum\n",
    "edunum_map = {\n",
    "    range(0, 10): \"Low-education\",\n",
    "    range(10, 13): \"Medium-education\",\n",
    "    range(13, 25): \"High-education\"\n",
    "}\n",
    "data[\"edunum\"] = data[\"edunum\"].apply(lambda x: next((v for k, v in edunum_map.items() if x in k), x))\n",
    "\n",
    "# Discretizing capitalgain and capitalloss\n",
    "capitalgain_median = data[\"capitalgain\"].median()\n",
    "capitalloss_median = data[\"capitalloss\"].median()\n",
    "\n",
    "data[\"capitalgain\"] = data[\"capitalgain\"].apply(lambda x: \"No-gain\" if x == 0 else (\"Low-gain\" if x < capitalgain_median else \"High-gain\"))\n",
    "data[\"capitalloss\"] = data[\"capitalloss\"].apply(lambda x: \"No-loss\" if x == 0 else (\"Low-loss\" if x < capitalloss_median else \"High-loss\"))\n",
    "\n",
    "# Discretizing hoursperweek\n",
    "hours_map = {\n",
    "    range(0, 35): \"Part-time\",\n",
    "    range(35, 51): \"Full-time\",\n",
    "    range(51, 150): \"Overtime\"\n",
    "}\n",
    "data[\"hoursperweek\"] = data[\"hoursperweek\"].apply(lambda x: next((v for k, v in hours_map.items() if x in k), x))\n",
    "\n",
    "# Displaying the updated data\n",
    "data.head()\n"
   ]
  },
  {
   "cell_type": "code",
   "execution_count": 28,
   "id": "5715481b",
   "metadata": {},
   "outputs": [],
   "source": [
    "from sklearn.model_selection import train_test_split\n",
    "\n",
    "train, test = train_test_split(data, train_size=0.9, test_size=0.1, random_state=7)"
   ]
  },
  {
   "cell_type": "code",
   "execution_count": null,
   "id": "0ea579c5",
   "metadata": {},
   "outputs": [],
   "source": []
  },
  {
   "cell_type": "code",
   "execution_count": 29,
   "id": "41822214",
   "metadata": {},
   "outputs": [],
   "source": [
    "bn = bn.fit_node_states(data)"
   ]
  },
  {
   "cell_type": "code",
   "execution_count": 30,
   "id": "ca06342b",
   "metadata": {},
   "outputs": [
    {
     "ename": "MemoryError",
     "evalue": "Unable to allocate 1.28 GiB for an array with shape (84672, 16200) and data type int8",
     "output_type": "error",
     "traceback": [
      "\u001b[1;31m---------------------------------------------------------------------------\u001b[0m",
      "\u001b[1;31m_RemoteTraceback\u001b[0m                          Traceback (most recent call last)",
      "\u001b[1;31m_RemoteTraceback\u001b[0m: \n\"\"\"\nTraceback (most recent call last):\n  File \"c:\\Users\\adaml\\anaconda3\\envs\\casual\\lib\\site-packages\\joblib\\_parallel_backends.py\", line 273, in _wrap_func_call\n    return func()\n  File \"c:\\Users\\adaml\\anaconda3\\envs\\casual\\lib\\site-packages\\joblib\\parallel.py\", line 588, in __call__\n    return [func(*args, **kwargs)\n  File \"c:\\Users\\adaml\\anaconda3\\envs\\casual\\lib\\site-packages\\joblib\\parallel.py\", line 588, in <listcomp>\n    return [func(*args, **kwargs)\n  File \"c:\\Users\\adaml\\anaconda3\\envs\\casual\\lib\\site-packages\\pgmpy\\estimators\\BayesianEstimator.py\", line 89, in _get_node_param\n    cpd = self.estimate_cpd(\n  File \"c:\\Users\\adaml\\anaconda3\\envs\\casual\\lib\\site-packages\\pgmpy\\estimators\\BayesianEstimator.py\", line 196, in estimate_cpd\n    state_counts = self.state_counts(node)\n  File \"c:\\Users\\adaml\\anaconda3\\envs\\casual\\lib\\site-packages\\pgmpy\\estimators\\base.py\", line 261, in state_counts\n    return super(ParameterEstimator, self).state_counts(\n  File \"c:\\Users\\adaml\\anaconda3\\envs\\casual\\lib\\site-packages\\pgmpy\\utils\\decorators.py\", line 6, in _convert_param_to_tuples\n    return func(obj, variable, parents, complete_samples_only, weighted)\n  File \"c:\\Users\\adaml\\anaconda3\\envs\\casual\\lib\\site-packages\\pgmpy\\estimators\\base.py\", line 173, in state_counts\n    column_index = pd.MultiIndex.from_product(parents_states, names=parents)\n  File \"c:\\Users\\adaml\\anaconda3\\envs\\casual\\lib\\site-packages\\pandas\\core\\indexes\\multi.py\", line 643, in from_product\n    codes = cartesian_product(codes)\n  File \"c:\\Users\\adaml\\anaconda3\\envs\\casual\\lib\\site-packages\\pandas\\core\\reshape\\util.py\", line 60, in cartesian_product\n    return [\n  File \"c:\\Users\\adaml\\anaconda3\\envs\\casual\\lib\\site-packages\\pandas\\core\\reshape\\util.py\", line 61, in <listcomp>\n    tile_compat(\n  File \"c:\\Users\\adaml\\anaconda3\\envs\\casual\\lib\\site-packages\\pandas\\core\\reshape\\util.py\", line 78, in tile_compat\n    return np.tile(arr, num)\n  File \"<__array_function__ internals>\", line 180, in tile\n  File \"c:\\Users\\adaml\\anaconda3\\envs\\casual\\lib\\site-packages\\numpy\\lib\\shape_base.py\", line 1278, in tile\n    c = c.reshape(-1, n).repeat(nrep, 0)\nnumpy.core._exceptions._ArrayMemoryError: Unable to allocate 1.28 GiB for an array with shape (84672, 16200) and data type int8\n\"\"\"",
      "\nThe above exception was the direct cause of the following exception:\n",
      "\u001b[1;31mMemoryError\u001b[0m                               Traceback (most recent call last)",
      "Cell \u001b[1;32mIn[30], line 1\u001b[0m\n\u001b[1;32m----> 1\u001b[0m bn \u001b[39m=\u001b[39m bn\u001b[39m.\u001b[39;49mfit_cpds(train, method\u001b[39m=\u001b[39;49m\u001b[39m\"\u001b[39;49m\u001b[39mBayesianEstimator\u001b[39;49m\u001b[39m\"\u001b[39;49m, bayes_prior\u001b[39m=\u001b[39;49m\u001b[39m\"\u001b[39;49m\u001b[39mK2\u001b[39;49m\u001b[39m\"\u001b[39;49m)\n",
      "File \u001b[1;32m~\\AppData\\Roaming\\Python\\Python310\\site-packages\\causalnex\\network\\network.py:433\u001b[0m, in \u001b[0;36mBayesianNetwork.fit_cpds\u001b[1;34m(self, data, method, bayes_prior, equivalent_sample_size)\u001b[0m\n\u001b[0;32m    428\u001b[0m     \u001b[39mif\u001b[39;00m bayes_prior \u001b[39mnot\u001b[39;00m \u001b[39min\u001b[39;00m valid_bayes_priors:\n\u001b[0;32m    429\u001b[0m         \u001b[39mraise\u001b[39;00m \u001b[39mValueError\u001b[39;00m(\n\u001b[0;32m    430\u001b[0m             \u001b[39mf\u001b[39m\u001b[39m\"\u001b[39m\u001b[39munrecognised bayes_prior, please use one of \u001b[39m\u001b[39m{\u001b[39;00mvalid_bayes_priors\u001b[39m}\u001b[39;00m\u001b[39m\"\u001b[39m\n\u001b[0;32m    431\u001b[0m         )\n\u001b[1;32m--> 433\u001b[0m     \u001b[39mself\u001b[39;49m\u001b[39m.\u001b[39;49m_model\u001b[39m.\u001b[39;49mfit(\n\u001b[0;32m    434\u001b[0m         data\u001b[39m=\u001b[39;49mtransformed_data,\n\u001b[0;32m    435\u001b[0m         estimator\u001b[39m=\u001b[39;49mBayesianEstimator,\n\u001b[0;32m    436\u001b[0m         prior_type\u001b[39m=\u001b[39;49mbayes_prior,\n\u001b[0;32m    437\u001b[0m         equivalent_sample_size\u001b[39m=\u001b[39;49mequivalent_sample_size,\n\u001b[0;32m    438\u001b[0m         state_names\u001b[39m=\u001b[39;49mstate_names,\n\u001b[0;32m    439\u001b[0m     )\n\u001b[0;32m    440\u001b[0m \u001b[39melse\u001b[39;00m:\n\u001b[0;32m    441\u001b[0m     valid_methods \u001b[39m=\u001b[39m [\u001b[39m\"\u001b[39m\u001b[39mMaximumLikelihoodEstimator\u001b[39m\u001b[39m\"\u001b[39m, \u001b[39m\"\u001b[39m\u001b[39mBayesianEstimator\u001b[39m\u001b[39m\"\u001b[39m]\n",
      "File \u001b[1;32mc:\\Users\\adaml\\anaconda3\\envs\\casual\\lib\\site-packages\\pgmpy\\models\\BayesianNetwork.py:586\u001b[0m, in \u001b[0;36mBayesianNetwork.fit\u001b[1;34m(self, data, estimator, state_names, complete_samples_only, n_jobs, **kwargs)\u001b[0m\n\u001b[0;32m    578\u001b[0m         \u001b[39mraise\u001b[39;00m \u001b[39mTypeError\u001b[39;00m(\u001b[39m\"\u001b[39m\u001b[39mEstimator object should be a valid pgmpy estimator.\u001b[39m\u001b[39m\"\u001b[39m)\n\u001b[0;32m    580\u001b[0m _estimator \u001b[39m=\u001b[39m estimator(\n\u001b[0;32m    581\u001b[0m     \u001b[39mself\u001b[39m,\n\u001b[0;32m    582\u001b[0m     data,\n\u001b[0;32m    583\u001b[0m     state_names\u001b[39m=\u001b[39mstate_names,\n\u001b[0;32m    584\u001b[0m     complete_samples_only\u001b[39m=\u001b[39mcomplete_samples_only,\n\u001b[0;32m    585\u001b[0m )\n\u001b[1;32m--> 586\u001b[0m cpds_list \u001b[39m=\u001b[39m _estimator\u001b[39m.\u001b[39mget_parameters(n_jobs\u001b[39m=\u001b[39mn_jobs, \u001b[39m*\u001b[39m\u001b[39m*\u001b[39mkwargs)\n\u001b[0;32m    587\u001b[0m \u001b[39mself\u001b[39m\u001b[39m.\u001b[39madd_cpds(\u001b[39m*\u001b[39mcpds_list)\n",
      "File \u001b[1;32mc:\\Users\\adaml\\anaconda3\\envs\\casual\\lib\\site-packages\\pgmpy\\estimators\\BayesianEstimator.py:97\u001b[0m, in \u001b[0;36mBayesianEstimator.get_parameters\u001b[1;34m(self, prior_type, equivalent_sample_size, pseudo_counts, n_jobs)\u001b[0m\n\u001b[0;32m     89\u001b[0m     cpd \u001b[39m=\u001b[39m \u001b[39mself\u001b[39m\u001b[39m.\u001b[39mestimate_cpd(\n\u001b[0;32m     90\u001b[0m         node,\n\u001b[0;32m     91\u001b[0m         prior_type\u001b[39m=\u001b[39mprior_type,\n\u001b[0;32m     92\u001b[0m         equivalent_sample_size\u001b[39m=\u001b[39m_equivalent_sample_size,\n\u001b[0;32m     93\u001b[0m         pseudo_counts\u001b[39m=\u001b[39m_pseudo_counts,\n\u001b[0;32m     94\u001b[0m     )\n\u001b[0;32m     95\u001b[0m     \u001b[39mreturn\u001b[39;00m cpd\n\u001b[1;32m---> 97\u001b[0m parameters \u001b[39m=\u001b[39m Parallel(n_jobs\u001b[39m=\u001b[39;49mn_jobs, prefer\u001b[39m=\u001b[39;49m\u001b[39m\"\u001b[39;49m\u001b[39mthreads\u001b[39;49m\u001b[39m\"\u001b[39;49m)(\n\u001b[0;32m     98\u001b[0m     delayed(_get_node_param)(node) \u001b[39mfor\u001b[39;49;00m node \u001b[39min\u001b[39;49;00m \u001b[39mself\u001b[39;49m\u001b[39m.\u001b[39;49mmodel\u001b[39m.\u001b[39;49mnodes()\n\u001b[0;32m     99\u001b[0m )\n\u001b[0;32m    101\u001b[0m \u001b[39mreturn\u001b[39;00m parameters\n",
      "File \u001b[1;32mc:\\Users\\adaml\\anaconda3\\envs\\casual\\lib\\site-packages\\joblib\\parallel.py:1944\u001b[0m, in \u001b[0;36mParallel.__call__\u001b[1;34m(self, iterable)\u001b[0m\n\u001b[0;32m   1938\u001b[0m \u001b[39m# The first item from the output is blank, but it makes the interpreter\u001b[39;00m\n\u001b[0;32m   1939\u001b[0m \u001b[39m# progress until it enters the Try/Except block of the generator and\u001b[39;00m\n\u001b[0;32m   1940\u001b[0m \u001b[39m# reach the first `yield` statement. This starts the aynchronous\u001b[39;00m\n\u001b[0;32m   1941\u001b[0m \u001b[39m# dispatch of the tasks to the workers.\u001b[39;00m\n\u001b[0;32m   1942\u001b[0m \u001b[39mnext\u001b[39m(output)\n\u001b[1;32m-> 1944\u001b[0m \u001b[39mreturn\u001b[39;00m output \u001b[39mif\u001b[39;00m \u001b[39mself\u001b[39m\u001b[39m.\u001b[39mreturn_generator \u001b[39melse\u001b[39;00m \u001b[39mlist\u001b[39;49m(output)\n",
      "File \u001b[1;32mc:\\Users\\adaml\\anaconda3\\envs\\casual\\lib\\site-packages\\joblib\\parallel.py:1587\u001b[0m, in \u001b[0;36mParallel._get_outputs\u001b[1;34m(self, iterator, pre_dispatch)\u001b[0m\n\u001b[0;32m   1584\u001b[0m     \u001b[39myield\u001b[39;00m\n\u001b[0;32m   1586\u001b[0m     \u001b[39mwith\u001b[39;00m \u001b[39mself\u001b[39m\u001b[39m.\u001b[39m_backend\u001b[39m.\u001b[39mretrieval_context():\n\u001b[1;32m-> 1587\u001b[0m         \u001b[39myield from\u001b[39;00m \u001b[39mself\u001b[39m\u001b[39m.\u001b[39m_retrieve()\n\u001b[0;32m   1589\u001b[0m \u001b[39mexcept\u001b[39;00m \u001b[39mGeneratorExit\u001b[39;00m:\n\u001b[0;32m   1590\u001b[0m     \u001b[39m# The generator has been garbage collected before being fully\u001b[39;00m\n\u001b[0;32m   1591\u001b[0m     \u001b[39m# consumed. This aborts the remaining tasks if possible and warn\u001b[39;00m\n\u001b[0;32m   1592\u001b[0m     \u001b[39m# the user if necessary.\u001b[39;00m\n\u001b[0;32m   1593\u001b[0m     \u001b[39mself\u001b[39m\u001b[39m.\u001b[39m_exception \u001b[39m=\u001b[39m \u001b[39mTrue\u001b[39;00m\n",
      "File \u001b[1;32mc:\\Users\\adaml\\anaconda3\\envs\\casual\\lib\\site-packages\\joblib\\parallel.py:1691\u001b[0m, in \u001b[0;36mParallel._retrieve\u001b[1;34m(self)\u001b[0m\n\u001b[0;32m   1684\u001b[0m \u001b[39mwhile\u001b[39;00m \u001b[39mself\u001b[39m\u001b[39m.\u001b[39m_wait_retrieval():\n\u001b[0;32m   1685\u001b[0m \n\u001b[0;32m   1686\u001b[0m     \u001b[39m# If the callback thread of a worker has signaled that its task\u001b[39;00m\n\u001b[0;32m   1687\u001b[0m     \u001b[39m# triggered an exception, or if the retrieval loop has raised an\u001b[39;00m\n\u001b[0;32m   1688\u001b[0m     \u001b[39m# exception (e.g. `GeneratorExit`), exit the loop and surface the\u001b[39;00m\n\u001b[0;32m   1689\u001b[0m     \u001b[39m# worker traceback.\u001b[39;00m\n\u001b[0;32m   1690\u001b[0m     \u001b[39mif\u001b[39;00m \u001b[39mself\u001b[39m\u001b[39m.\u001b[39m_aborting:\n\u001b[1;32m-> 1691\u001b[0m         \u001b[39mself\u001b[39;49m\u001b[39m.\u001b[39;49m_raise_error_fast()\n\u001b[0;32m   1692\u001b[0m         \u001b[39mbreak\u001b[39;00m\n\u001b[0;32m   1694\u001b[0m     \u001b[39m# If the next job is not ready for retrieval yet, we just wait for\u001b[39;00m\n\u001b[0;32m   1695\u001b[0m     \u001b[39m# async callbacks to progress.\u001b[39;00m\n",
      "File \u001b[1;32mc:\\Users\\adaml\\anaconda3\\envs\\casual\\lib\\site-packages\\joblib\\parallel.py:1726\u001b[0m, in \u001b[0;36mParallel._raise_error_fast\u001b[1;34m(self)\u001b[0m\n\u001b[0;32m   1722\u001b[0m \u001b[39m# If this error job exists, immediatly raise the error by\u001b[39;00m\n\u001b[0;32m   1723\u001b[0m \u001b[39m# calling get_result. This job might not exists if abort has been\u001b[39;00m\n\u001b[0;32m   1724\u001b[0m \u001b[39m# called directly or if the generator is gc'ed.\u001b[39;00m\n\u001b[0;32m   1725\u001b[0m \u001b[39mif\u001b[39;00m error_job \u001b[39mis\u001b[39;00m \u001b[39mnot\u001b[39;00m \u001b[39mNone\u001b[39;00m:\n\u001b[1;32m-> 1726\u001b[0m     error_job\u001b[39m.\u001b[39;49mget_result(\u001b[39mself\u001b[39;49m\u001b[39m.\u001b[39;49mtimeout)\n",
      "File \u001b[1;32mc:\\Users\\adaml\\anaconda3\\envs\\casual\\lib\\site-packages\\joblib\\parallel.py:735\u001b[0m, in \u001b[0;36mBatchCompletionCallBack.get_result\u001b[1;34m(self, timeout)\u001b[0m\n\u001b[0;32m    729\u001b[0m backend \u001b[39m=\u001b[39m \u001b[39mself\u001b[39m\u001b[39m.\u001b[39mparallel\u001b[39m.\u001b[39m_backend\n\u001b[0;32m    731\u001b[0m \u001b[39mif\u001b[39;00m backend\u001b[39m.\u001b[39msupports_retrieve_callback:\n\u001b[0;32m    732\u001b[0m     \u001b[39m# We assume that the result has already been retrieved by the\u001b[39;00m\n\u001b[0;32m    733\u001b[0m     \u001b[39m# callback thread, and is stored internally. It's just waiting to\u001b[39;00m\n\u001b[0;32m    734\u001b[0m     \u001b[39m# be returned.\u001b[39;00m\n\u001b[1;32m--> 735\u001b[0m     \u001b[39mreturn\u001b[39;00m \u001b[39mself\u001b[39;49m\u001b[39m.\u001b[39;49m_return_or_raise()\n\u001b[0;32m    737\u001b[0m \u001b[39m# For other backends, the main thread needs to run the retrieval step.\u001b[39;00m\n\u001b[0;32m    738\u001b[0m \u001b[39mtry\u001b[39;00m:\n",
      "File \u001b[1;32mc:\\Users\\adaml\\anaconda3\\envs\\casual\\lib\\site-packages\\joblib\\parallel.py:753\u001b[0m, in \u001b[0;36mBatchCompletionCallBack._return_or_raise\u001b[1;34m(self)\u001b[0m\n\u001b[0;32m    751\u001b[0m \u001b[39mtry\u001b[39;00m:\n\u001b[0;32m    752\u001b[0m     \u001b[39mif\u001b[39;00m \u001b[39mself\u001b[39m\u001b[39m.\u001b[39mstatus \u001b[39m==\u001b[39m TASK_ERROR:\n\u001b[1;32m--> 753\u001b[0m         \u001b[39mraise\u001b[39;00m \u001b[39mself\u001b[39m\u001b[39m.\u001b[39m_result\n\u001b[0;32m    754\u001b[0m     \u001b[39mreturn\u001b[39;00m \u001b[39mself\u001b[39m\u001b[39m.\u001b[39m_result\n\u001b[0;32m    755\u001b[0m \u001b[39mfinally\u001b[39;00m:\n",
      "\u001b[1;31mMemoryError\u001b[0m: Unable to allocate 1.28 GiB for an array with shape (84672, 16200) and data type int8"
     ]
    }
   ],
   "source": [
    "bn = bn.fit_cpds(train, method=\"BayesianEstimator\", bayes_prior=\"K2\")"
   ]
  },
  {
   "cell_type": "code",
   "execution_count": 3,
   "id": "5c984b0e",
   "metadata": {},
   "outputs": [
    {
     "ename": "ValueError",
     "evalue": "No CPD associated with age",
     "output_type": "error",
     "traceback": [
      "\u001b[1;31m---------------------------------------------------------------------------\u001b[0m",
      "\u001b[1;31mValueError\u001b[0m                                Traceback (most recent call last)",
      "Cell \u001b[1;32mIn[3], line 51\u001b[0m\n\u001b[0;32m     48\u001b[0m bn \u001b[39m=\u001b[39m BayesianModel(edges)\n\u001b[0;32m     50\u001b[0m \u001b[39m# Check for cycles\u001b[39;00m\n\u001b[1;32m---> 51\u001b[0m is_valid \u001b[39m=\u001b[39m bn\u001b[39m.\u001b[39;49mcheck_model()\n\u001b[0;32m     53\u001b[0m is_valid\n",
      "File \u001b[1;32mc:\\Users\\adaml\\anaconda3\\envs\\casual\\lib\\site-packages\\pgmpy\\models\\BayesianNetwork.py:408\u001b[0m, in \u001b[0;36mBayesianNetwork.check_model\u001b[1;34m(self)\u001b[0m\n\u001b[0;32m    406\u001b[0m \u001b[39m# Check if a CPD is associated with every node.\u001b[39;00m\n\u001b[0;32m    407\u001b[0m \u001b[39mif\u001b[39;00m cpd \u001b[39mis\u001b[39;00m \u001b[39mNone\u001b[39;00m:\n\u001b[1;32m--> 408\u001b[0m     \u001b[39mraise\u001b[39;00m \u001b[39mValueError\u001b[39;00m(\u001b[39mf\u001b[39m\u001b[39m\"\u001b[39m\u001b[39mNo CPD associated with \u001b[39m\u001b[39m{\u001b[39;00mnode\u001b[39m}\u001b[39;00m\u001b[39m\"\u001b[39m)\n\u001b[0;32m    410\u001b[0m \u001b[39m# Check if the CPD is an instance of either TabularCPD or ContinuousFactor.\u001b[39;00m\n\u001b[0;32m    411\u001b[0m \u001b[39melif\u001b[39;00m \u001b[39misinstance\u001b[39m(cpd, (TabularCPD, ContinuousFactor)):\n",
      "\u001b[1;31mValueError\u001b[0m: No CPD associated with age"
     ]
    }
   ],
   "source": [
    "from pgmpy.models import BayesianModel\n",
    "# from pgmpy.inference import BayesianModelSampling\n",
    "from pgmpy.estimators import ParameterEstimator, MaximumLikelihoodEstimator, BayesianEstimator\n",
    "from pgmpy.utils import get_example_model\n",
    "\n",
    "# Construct the Bayesian Network from edges\n",
    "edges = [\n",
    "    (\"age\", \"edunum\"),\n",
    "    (\"age\", \"capitalgain\"),\n",
    "    (\"workclass\", \"education\"),\n",
    "    (\"workclass\", \"capitalgain\"),\n",
    "    (\"workclass\", \"capitalloss\"),\n",
    "    (\"education\", \"race\"),\n",
    "    (\"education\", \"capitalgain\"),\n",
    "    (\"education\", \"country\"),\n",
    "    (\"edunum\", \"capitalgain\"),\n",
    "    (\"edunum\", \"capitalloss\"),\n",
    "    (\"maritalstatus\", \"capitalgain\"),\n",
    "    (\"maritalstatus\", \"capitalloss\"),\n",
    "    (\"maritalstatus\", \"hoursperweek\"),\n",
    "    (\"occupation\", \"age\"),\n",
    "    (\"occupation\", \"workclass\"),\n",
    "    (\"occupation\", \"education\"),\n",
    "    (\"occupation\", \"maritalstatus\"),\n",
    "    (\"occupation\", \"relationship\"),\n",
    "    (\"occupation\", \"capitalgain\"),\n",
    "    (\"occupation\", \"hoursperweek\"),\n",
    "    (\"occupation\", \"country\"),\n",
    "    (\"relationship\", \"education\"),\n",
    "    (\"relationship\", \"capitalgain\"),\n",
    "    (\"relationship\", \"capitalloss\"),\n",
    "    (\"relationship\", \"country\"),\n",
    "    (\"race\", \"capitalgain\"),\n",
    "    (\"sex\", \"capitalgain\"),\n",
    "    (\"sex\", \"capitalloss\"),\n",
    "    (\"capitalloss\", \"capitalgain\"),\n",
    "    (\"hoursperweek\", \"capitalgain\"),\n",
    "    (\"country\", \"edunum\"),\n",
    "    (\"country\", \"race\"),\n",
    "    (\"country\", \"capitalgain\"),\n",
    "    (\"income\", \"capitalgain\"),\n",
    "    (\"income\", \"capitalloss\"),\n",
    "    (\"income\", \"hoursperweek\"),\n",
    "    (\"predicted income\", \"capitalgain\"),\n",
    "    (\"predicted income\", \"capitalloss\")\n",
    "]\n",
    "\n",
    "bn = BayesianModel(edges)\n",
    "\n",
    "# Check for cycles\n",
    "is_valid = bn.check_model()\n",
    "\n",
    "is_valid\n"
   ]
  },
  {
   "cell_type": "code",
   "execution_count": null,
   "id": "562a57d7",
   "metadata": {},
   "outputs": [],
   "source": []
  },
  {
   "cell_type": "code",
   "execution_count": null,
   "id": "f7b776fd",
   "metadata": {},
   "outputs": [],
   "source": []
  },
  {
   "cell_type": "code",
   "execution_count": null,
   "id": "535ec462",
   "metadata": {},
   "outputs": [],
   "source": []
  },
  {
   "cell_type": "code",
   "execution_count": null,
   "id": "ea214c2c",
   "metadata": {},
   "outputs": [],
   "source": []
  },
  {
   "cell_type": "code",
   "execution_count": null,
   "id": "021ea833",
   "metadata": {},
   "outputs": [],
   "source": []
  },
  {
   "cell_type": "code",
   "execution_count": null,
   "id": "90b2bfc6",
   "metadata": {},
   "outputs": [],
   "source": []
  },
  {
   "cell_type": "code",
   "execution_count": null,
   "id": "d3949e4e",
   "metadata": {},
   "outputs": [],
   "source": []
  },
  {
   "cell_type": "code",
   "execution_count": null,
   "id": "6e56020e",
   "metadata": {},
   "outputs": [],
   "source": []
  },
  {
   "cell_type": "code",
   "execution_count": null,
   "id": "8af00b2d",
   "metadata": {},
   "outputs": [],
   "source": []
  },
  {
   "cell_type": "code",
   "execution_count": null,
   "id": "2e2a909a",
   "metadata": {},
   "outputs": [],
   "source": []
  },
  {
   "cell_type": "code",
   "execution_count": null,
   "id": "d08a239c",
   "metadata": {},
   "outputs": [],
   "source": []
  },
  {
   "cell_type": "code",
   "execution_count": null,
   "id": "bd3d3169",
   "metadata": {},
   "outputs": [],
   "source": []
  },
  {
   "cell_type": "code",
   "execution_count": null,
   "id": "1ec94055",
   "metadata": {},
   "outputs": [],
   "source": []
  }
 ],
 "metadata": {
  "kernelspec": {
   "display_name": "casual",
   "language": "python",
   "name": "python3"
  },
  "language_info": {
   "codemirror_mode": {
    "name": "ipython",
    "version": 3
   },
   "file_extension": ".py",
   "mimetype": "text/x-python",
   "name": "python",
   "nbconvert_exporter": "python",
   "pygments_lexer": "ipython3",
   "version": "3.10.12"
  }
 },
 "nbformat": 4,
 "nbformat_minor": 5
}
